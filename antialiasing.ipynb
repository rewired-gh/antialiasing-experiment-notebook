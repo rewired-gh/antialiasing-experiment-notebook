{
 "cells": [
  {
   "cell_type": "code",
   "execution_count": null,
   "metadata": {},
   "outputs": [],
   "source": [
    "%conda install numpy\n",
    "%conda install matplotlib"
   ]
  },
  {
   "cell_type": "code",
   "execution_count": 36,
   "metadata": {},
   "outputs": [],
   "source": [
    "width = 17\n",
    "height = 17\n",
    "origin = (width / 2, height / 2)\n",
    "radius = 6\n",
    "eps = 4"
   ]
  },
  {
   "cell_type": "code",
   "execution_count": 37,
   "metadata": {},
   "outputs": [],
   "source": [
    "import matplotlib.pyplot as plt\n",
    "import matplotlib.patches as patches\n",
    "\n",
    "plt.rcParams[\"figure.dpi\"] = 92\n",
    "\n",
    "def init_plot(fig, ax):\n",
    "    fig.set_size_inches(3, 3)\n",
    "    ax.set_xlim(0, eps * width)\n",
    "    ax.set_ylim(0, eps * width)\n",
    "    ax.tick_params(bottom = False, left = False)\n",
    "    return fig, ax"
   ]
  },
  {
   "cell_type": "code",
   "execution_count": 52,
   "metadata": {},
   "outputs": [
    {
     "data": {
      "image/png": "[encoded data removed]",
      "text/plain": [
       "<Figure size 276x276 with 1 Axes>"
      ]
     },
     "metadata": {},
     "output_type": "display_data"
    }
   ],
   "source": [
    "import numpy as np\n",
    "\n",
    "pixels_no_aa = np.zeros([height, width])\n",
    "for y in range(len(pixels_no_aa)):\n",
    "    row = pixels_no_aa[y]\n",
    "    for x in range(len(row)):\n",
    "        if (x - origin[0]) ** 2 + (y - origin[1]) ** 2 <= radius ** 2:\n",
    "            pixels_no_aa[y][x] = 1\n",
    "\n",
    "fig, ax = plt.subplots()\n",
    "init_plot(fig, ax)\n",
    "for y in range(len(pixels_no_aa)):\n",
    "    row = pixels_no_aa[y]\n",
    "    for x in range(len(row)):\n",
    "        pix = row[x]\n",
    "        rect = patches.Rectangle((x * eps, y * eps), eps, eps, fc = str(pix), fill = True)\n",
    "        ax.add_patch(rect)\n",
    "plt.show()"
   ]
  },
  {
   "cell_type": "code",
   "execution_count": 54,
   "metadata": {},
   "outputs": [
    {
     "data": {
      "image/png": "[encoded data removed]",
      "text/plain": [
       "<Figure size 276x276 with 1 Axes>"
      ]
     },
     "metadata": {},
     "output_type": "display_data"
    }
   ],
   "source": [
    "scale = 4\n",
    "\n",
    "pixels_sp = np.zeros([height * scale, width * scale])\n",
    "pixels_sp_aa = np.zeros([height, width])\n",
    "for y in range(len(pixels_sp)):\n",
    "    row = pixels_sp[y]\n",
    "    for x in range(len(row)):\n",
    "        xs, ys = x / scale, y / scale\n",
    "        if (xs - origin[0]) ** 2 + (ys - origin[1]) ** 2 <= radius ** 2:\n",
    "            pixels_sp[y][x] = 1\n",
    "\n",
    "for y in range(len(pixels_sp_aa)):\n",
    "    row = pixels_sp_aa[y]\n",
    "    for x in range(len(row)):\n",
    "        conv = 0\n",
    "        xx, yy = x * scale, y * scale\n",
    "        for dx in range(scale):\n",
    "            for dy in range(scale):\n",
    "                conv += pixels_sp[yy + dy][xx + dx]\n",
    "        pixels_sp_aa[y][x] = conv / (scale * scale)\n",
    "\n",
    "fig, ax = plt.subplots()\n",
    "init_plot(fig, ax)\n",
    "for y in range(len(pixels_sp_aa)):\n",
    "    row = pixels_sp_aa[y]\n",
    "    for x in range(len(row)):\n",
    "        pix = row[x]\n",
    "        rect = patches.Rectangle((x * eps, y * eps), eps, eps, fc = str(pix), fill = True)\n",
    "        ax.add_patch(rect)\n",
    "plt.show()"
   ]
  },
  {
   "cell_type": "code",
   "execution_count": 51,
   "metadata": {},
   "outputs": [
    {
     "data": {
      "image/png": "[encoded data removed]",
      "text/plain": [
       "<Figure size 276x276 with 1 Axes>"
      ]
     },
     "metadata": {},
     "output_type": "display_data"
    }
   ],
   "source": [
    "sensitive = 1 / 6\n",
    "threshold = 0.02\n",
    "shrink = 1 / sensitive\n",
    "\n",
    "pixels_th_aa = np.zeros([height, width])\n",
    "for y in range(len(pixels_th_aa)):\n",
    "    row = pixels_th_aa[y]\n",
    "    for x in range(len(row)):\n",
    "        dist2 = (x - origin[0]) ** 2 + (y - origin[1]) ** 2 - radius ** 2 + shrink\n",
    "        if dist2 < 0:\n",
    "            dist2 = 0\n",
    "        pix = np.exp(-sensitive * dist2)\n",
    "        if pix < threshold:\n",
    "            pix = 0\n",
    "        pixels_th_aa[y][x] = pix\n",
    "\n",
    "fig, ax = plt.subplots()\n",
    "init_plot(fig, ax)\n",
    "for y in range(len(pixels_th_aa)):\n",
    "    row = pixels_th_aa[y]\n",
    "    for x in range(len(row)):\n",
    "        pix = row[x]\n",
    "        rect = patches.Rectangle((x * eps, y * eps), eps, eps, fc = str(pix), fill = True)\n",
    "        ax.add_patch(rect)\n",
    "plt.show()"
   ]
  },
  {
   "cell_type": "code",
   "execution_count": null,
   "metadata": {},
   "outputs": [],
   "source": []
  }
 ],
 "metadata": {
  "kernelspec": {
   "display_name": "Python 3.10.6 ('base')",
   "language": "python",
   "name": "python3"
  },
  "language_info": {
   "codemirror_mode": {
    "name": "ipython",
    "version": 3
   },
   "file_extension": ".py",
   "mimetype": "text/x-python",
   "name": "python",
   "nbconvert_exporter": "python",
   "pygments_lexer": "ipython3",
   "version": "3.10.6"
  },
  "orig_nbformat": 4,
  "vscode": {
   "interpreter": {
    "hash": "c6e4e9f98eb68ad3b7c296f83d20e6de614cb42e90992a65aa266555a3137d0d"
   }
  }
 },
 "nbformat": 4,
 "nbformat_minor": 2
}
